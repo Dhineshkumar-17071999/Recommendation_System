{
 "cells": [
  {
   "cell_type": "markdown",
   "metadata": {},
   "source": [
    "Import the libraries"
   ]
  },
  {
   "cell_type": "code",
   "execution_count": 1,
   "metadata": {},
   "outputs": [],
   "source": [
    "import numpy as np\n",
    "import pandas as pd\n",
    "import matplotlib.pyplot as plt\n",
    "import seaborn as sns\n",
    "import warnings\n",
    "warnings.filterwarnings('ignore')\n",
    "from surprise import Dataset, Reader, SVD, accuracy\n",
    "from surprise.accuracy import rmse\n",
    "from surprise.model_selection import train_test_split, cross_validate"
   ]
  },
  {
   "cell_type": "markdown",
   "metadata": {},
   "source": [
    "Dataset describing and analyzing and visualizing"
   ]
  },
  {
   "cell_type": "code",
   "execution_count": 2,
   "metadata": {},
   "outputs": [],
   "source": [
    "def read_dataset(df):\n",
    "    return pd.read_csv(df)\n",
    "\n",
    "def dataset_head(df, limit = 5):\n",
    "    return df.head(limit)\n",
    "\n",
    "def dataset_tail(df, limit = 5):\n",
    "    return df.tail(limit)\n",
    "\n",
    "def dataset_info(df):\n",
    "    return df.info()\n",
    "\n",
    "def dataset_describe(df):\n",
    "    return df.describe()\n",
    "\n",
    "def dataset_missing_values(df):\n",
    "    return df.isnull().sum()\n",
    "\n",
    "def dataset_columns(df):\n",
    "    return df.columns\n",
    "\n",
    "def dataset_shape(df):\n",
    "    return df.shape\n",
    "\n",
    "def dataset_numerical_columns(df):\n",
    "    return df.select_dtypes(include = ['int64', 'float64']).columns\n",
    "\n",
    "def dataset_categorical_columns(df):\n",
    "    return df.select_dtypes(include = ['object']).columns\n",
    "\n",
    "def check_unique_values(df):\n",
    "    return df.nunique()\n",
    "\n",
    "def check_unique_value_for_a_column(df, column):\n",
    "    return df[column].nunique()\n",
    "\n",
    "def drop_column(df, column):\n",
    "    return df.drop(column, axis = 1)\n"
   ]
  },
  {
   "cell_type": "code",
   "execution_count": 3,
   "metadata": {},
   "outputs": [],
   "source": [
    "def hist_plot(df, column):\n",
    "    sns.histplot(df[column], bins = 10, kde = False)\n",
    "    plt.title(f\"Distribution of {column}\")\n",
    "    plt.show()"
   ]
  },
  {
   "cell_type": "markdown",
   "metadata": {},
   "source": [
    "Load dataset"
   ]
  },
  {
   "cell_type": "code",
   "execution_count": 4,
   "metadata": {},
   "outputs": [],
   "source": [
    "movies = read_dataset('ml-latest-small/movies.csv')\n",
    "ratings = read_dataset('ml-latest-small/ratings.csv')\n",
    "# links = read_dataset('ml-latest-small/links.csv')\n",
    "# tags = read_dataset('ml-latest-small/tags.csv')"
   ]
  },
  {
   "cell_type": "code",
   "execution_count": 5,
   "metadata": {},
   "outputs": [
    {
     "data": {
      "text/html": [
       "<div>\n",
       "<style scoped>\n",
       "    .dataframe tbody tr th:only-of-type {\n",
       "        vertical-align: middle;\n",
       "    }\n",
       "\n",
       "    .dataframe tbody tr th {\n",
       "        vertical-align: top;\n",
       "    }\n",
       "\n",
       "    .dataframe thead th {\n",
       "        text-align: right;\n",
       "    }\n",
       "</style>\n",
       "<table border=\"1\" class=\"dataframe\">\n",
       "  <thead>\n",
       "    <tr style=\"text-align: right;\">\n",
       "      <th></th>\n",
       "      <th>movieId</th>\n",
       "      <th>title</th>\n",
       "      <th>genres</th>\n",
       "    </tr>\n",
       "  </thead>\n",
       "  <tbody>\n",
       "    <tr>\n",
       "      <th>0</th>\n",
       "      <td>1</td>\n",
       "      <td>Toy Story (1995)</td>\n",
       "      <td>Adventure|Animation|Children|Comedy|Fantasy</td>\n",
       "    </tr>\n",
       "    <tr>\n",
       "      <th>1</th>\n",
       "      <td>2</td>\n",
       "      <td>Jumanji (1995)</td>\n",
       "      <td>Adventure|Children|Fantasy</td>\n",
       "    </tr>\n",
       "    <tr>\n",
       "      <th>2</th>\n",
       "      <td>3</td>\n",
       "      <td>Grumpier Old Men (1995)</td>\n",
       "      <td>Comedy|Romance</td>\n",
       "    </tr>\n",
       "    <tr>\n",
       "      <th>3</th>\n",
       "      <td>4</td>\n",
       "      <td>Waiting to Exhale (1995)</td>\n",
       "      <td>Comedy|Drama|Romance</td>\n",
       "    </tr>\n",
       "    <tr>\n",
       "      <th>4</th>\n",
       "      <td>5</td>\n",
       "      <td>Father of the Bride Part II (1995)</td>\n",
       "      <td>Comedy</td>\n",
       "    </tr>\n",
       "  </tbody>\n",
       "</table>\n",
       "</div>"
      ],
      "text/plain": [
       "   movieId                               title  \\\n",
       "0        1                    Toy Story (1995)   \n",
       "1        2                      Jumanji (1995)   \n",
       "2        3             Grumpier Old Men (1995)   \n",
       "3        4            Waiting to Exhale (1995)   \n",
       "4        5  Father of the Bride Part II (1995)   \n",
       "\n",
       "                                        genres  \n",
       "0  Adventure|Animation|Children|Comedy|Fantasy  \n",
       "1                   Adventure|Children|Fantasy  \n",
       "2                               Comedy|Romance  \n",
       "3                         Comedy|Drama|Romance  \n",
       "4                                       Comedy  "
      ]
     },
     "execution_count": 5,
     "metadata": {},
     "output_type": "execute_result"
    }
   ],
   "source": [
    "dataset_head(movies)"
   ]
  },
  {
   "cell_type": "code",
   "execution_count": 6,
   "metadata": {},
   "outputs": [
    {
     "data": {
      "text/html": [
       "<div>\n",
       "<style scoped>\n",
       "    .dataframe tbody tr th:only-of-type {\n",
       "        vertical-align: middle;\n",
       "    }\n",
       "\n",
       "    .dataframe tbody tr th {\n",
       "        vertical-align: top;\n",
       "    }\n",
       "\n",
       "    .dataframe thead th {\n",
       "        text-align: right;\n",
       "    }\n",
       "</style>\n",
       "<table border=\"1\" class=\"dataframe\">\n",
       "  <thead>\n",
       "    <tr style=\"text-align: right;\">\n",
       "      <th></th>\n",
       "      <th>userId</th>\n",
       "      <th>movieId</th>\n",
       "      <th>rating</th>\n",
       "      <th>timestamp</th>\n",
       "    </tr>\n",
       "  </thead>\n",
       "  <tbody>\n",
       "    <tr>\n",
       "      <th>0</th>\n",
       "      <td>1</td>\n",
       "      <td>1</td>\n",
       "      <td>4.0</td>\n",
       "      <td>964982703</td>\n",
       "    </tr>\n",
       "    <tr>\n",
       "      <th>1</th>\n",
       "      <td>1</td>\n",
       "      <td>3</td>\n",
       "      <td>4.0</td>\n",
       "      <td>964981247</td>\n",
       "    </tr>\n",
       "    <tr>\n",
       "      <th>2</th>\n",
       "      <td>1</td>\n",
       "      <td>6</td>\n",
       "      <td>4.0</td>\n",
       "      <td>964982224</td>\n",
       "    </tr>\n",
       "    <tr>\n",
       "      <th>3</th>\n",
       "      <td>1</td>\n",
       "      <td>47</td>\n",
       "      <td>5.0</td>\n",
       "      <td>964983815</td>\n",
       "    </tr>\n",
       "    <tr>\n",
       "      <th>4</th>\n",
       "      <td>1</td>\n",
       "      <td>50</td>\n",
       "      <td>5.0</td>\n",
       "      <td>964982931</td>\n",
       "    </tr>\n",
       "  </tbody>\n",
       "</table>\n",
       "</div>"
      ],
      "text/plain": [
       "   userId  movieId  rating  timestamp\n",
       "0       1        1     4.0  964982703\n",
       "1       1        3     4.0  964981247\n",
       "2       1        6     4.0  964982224\n",
       "3       1       47     5.0  964983815\n",
       "4       1       50     5.0  964982931"
      ]
     },
     "execution_count": 6,
     "metadata": {},
     "output_type": "execute_result"
    }
   ],
   "source": [
    "dataset_head(ratings)"
   ]
  },
  {
   "cell_type": "markdown",
   "metadata": {},
   "source": [
    "Check Missing Values"
   ]
  },
  {
   "cell_type": "code",
   "execution_count": 7,
   "metadata": {},
   "outputs": [
    {
     "name": "stdout",
     "output_type": "stream",
     "text": [
      "movieId    0\n",
      "title      0\n",
      "genres     0\n",
      "dtype: int64\n",
      "---------------\n",
      "userId       0\n",
      "movieId      0\n",
      "rating       0\n",
      "timestamp    0\n",
      "dtype: int64\n"
     ]
    }
   ],
   "source": [
    "print(dataset_missing_values(movies))\n",
    "print(\"---------------\")\n",
    "print(dataset_missing_values(ratings))"
   ]
  },
  {
   "cell_type": "markdown",
   "metadata": {},
   "source": [
    "Dataframes shape"
   ]
  },
  {
   "cell_type": "code",
   "execution_count": 8,
   "metadata": {},
   "outputs": [
    {
     "name": "stdout",
     "output_type": "stream",
     "text": [
      "movie dataset shape: (9742, 3)\n",
      "rating dataset shape: (100836, 4)\n"
     ]
    }
   ],
   "source": [
    "print(f\"movie dataset shape: {dataset_shape(movies)}\")\n",
    "print(f\"rating dataset shape: {dataset_shape(ratings)}\")"
   ]
  },
  {
   "cell_type": "code",
   "execution_count": 9,
   "metadata": {},
   "outputs": [
    {
     "data": {
      "image/png": "[encoded data removed]",
      "text/plain": [
       "<Figure size 640x480 with 1 Axes>"
      ]
     },
     "metadata": {},
     "output_type": "display_data"
    }
   ],
   "source": [
    "hist_plot(ratings, 'rating')"
   ]
  },
  {
   "cell_type": "code",
   "execution_count": 10,
   "metadata": {},
   "outputs": [
    {
     "name": "stdout",
     "output_type": "stream",
     "text": [
      "Number of unique movies: 9742\n",
      "Number of unique users: 610\n"
     ]
    }
   ],
   "source": [
    "print(f\"Number of unique movies: {check_unique_value_for_a_column(movies, 'movieId')}\")\n",
    "print(f\"Number of unique users: {check_unique_value_for_a_column(ratings, 'userId')}\")"
   ]
  },
  {
   "cell_type": "markdown",
   "metadata": {},
   "source": [
    "Preprocessing"
   ]
  },
  {
   "cell_type": "code",
   "execution_count": 11,
   "metadata": {},
   "outputs": [
    {
     "name": "stdout",
     "output_type": "stream",
     "text": [
      "   userId  movieId  rating  timestamp                        title  \\\n",
      "0       1        1     4.0  964982703             Toy Story (1995)   \n",
      "1       1        3     4.0  964981247      Grumpier Old Men (1995)   \n",
      "2       1        6     4.0  964982224                  Heat (1995)   \n",
      "3       1       47     5.0  964983815  Seven (a.k.a. Se7en) (1995)   \n",
      "4       1       50     5.0  964982931   Usual Suspects, The (1995)   \n",
      "\n",
      "                                        genres  \n",
      "0  Adventure|Animation|Children|Comedy|Fantasy  \n",
      "1                               Comedy|Romance  \n",
      "2                        Action|Crime|Thriller  \n",
      "3                             Mystery|Thriller  \n",
      "4                       Crime|Mystery|Thriller  \n"
     ]
    }
   ],
   "source": [
    "merged_df = ratings.merge(movies, on = 'movieId')\n",
    "print(dataset_head(merged_df))"
   ]
  },
  {
   "cell_type": "code",
   "execution_count": 12,
   "metadata": {},
   "outputs": [
    {
     "name": "stdout",
     "output_type": "stream",
     "text": [
      "(100836, 6)\n"
     ]
    }
   ],
   "source": [
    "print(dataset_shape(merged_df))"
   ]
  },
  {
   "cell_type": "code",
   "execution_count": 13,
   "metadata": {},
   "outputs": [],
   "source": [
    "merged_df['genres'] = merged_df['genres'].str.split('|')"
   ]
  },
  {
   "cell_type": "code",
   "execution_count": 14,
   "metadata": {},
   "outputs": [
    {
     "data": {
      "text/html": [
       "<div>\n",
       "<style scoped>\n",
       "    .dataframe tbody tr th:only-of-type {\n",
       "        vertical-align: middle;\n",
       "    }\n",
       "\n",
       "    .dataframe tbody tr th {\n",
       "        vertical-align: top;\n",
       "    }\n",
       "\n",
       "    .dataframe thead th {\n",
       "        text-align: right;\n",
       "    }\n",
       "</style>\n",
       "<table border=\"1\" class=\"dataframe\">\n",
       "  <thead>\n",
       "    <tr style=\"text-align: right;\">\n",
       "      <th></th>\n",
       "      <th>userId</th>\n",
       "      <th>movieId</th>\n",
       "      <th>rating</th>\n",
       "      <th>timestamp</th>\n",
       "      <th>title</th>\n",
       "      <th>genres</th>\n",
       "    </tr>\n",
       "  </thead>\n",
       "  <tbody>\n",
       "    <tr>\n",
       "      <th>0</th>\n",
       "      <td>1</td>\n",
       "      <td>1</td>\n",
       "      <td>4.0</td>\n",
       "      <td>964982703</td>\n",
       "      <td>Toy Story (1995)</td>\n",
       "      <td>[Adventure, Animation, Children, Comedy, Fantasy]</td>\n",
       "    </tr>\n",
       "    <tr>\n",
       "      <th>1</th>\n",
       "      <td>1</td>\n",
       "      <td>3</td>\n",
       "      <td>4.0</td>\n",
       "      <td>964981247</td>\n",
       "      <td>Grumpier Old Men (1995)</td>\n",
       "      <td>[Comedy, Romance]</td>\n",
       "    </tr>\n",
       "    <tr>\n",
       "      <th>2</th>\n",
       "      <td>1</td>\n",
       "      <td>6</td>\n",
       "      <td>4.0</td>\n",
       "      <td>964982224</td>\n",
       "      <td>Heat (1995)</td>\n",
       "      <td>[Action, Crime, Thriller]</td>\n",
       "    </tr>\n",
       "    <tr>\n",
       "      <th>3</th>\n",
       "      <td>1</td>\n",
       "      <td>47</td>\n",
       "      <td>5.0</td>\n",
       "      <td>964983815</td>\n",
       "      <td>Seven (a.k.a. Se7en) (1995)</td>\n",
       "      <td>[Mystery, Thriller]</td>\n",
       "    </tr>\n",
       "    <tr>\n",
       "      <th>4</th>\n",
       "      <td>1</td>\n",
       "      <td>50</td>\n",
       "      <td>5.0</td>\n",
       "      <td>964982931</td>\n",
       "      <td>Usual Suspects, The (1995)</td>\n",
       "      <td>[Crime, Mystery, Thriller]</td>\n",
       "    </tr>\n",
       "  </tbody>\n",
       "</table>\n",
       "</div>"
      ],
      "text/plain": [
       "   userId  movieId  rating  timestamp                        title  \\\n",
       "0       1        1     4.0  964982703             Toy Story (1995)   \n",
       "1       1        3     4.0  964981247      Grumpier Old Men (1995)   \n",
       "2       1        6     4.0  964982224                  Heat (1995)   \n",
       "3       1       47     5.0  964983815  Seven (a.k.a. Se7en) (1995)   \n",
       "4       1       50     5.0  964982931   Usual Suspects, The (1995)   \n",
       "\n",
       "                                              genres  \n",
       "0  [Adventure, Animation, Children, Comedy, Fantasy]  \n",
       "1                                  [Comedy, Romance]  \n",
       "2                          [Action, Crime, Thriller]  \n",
       "3                                [Mystery, Thriller]  \n",
       "4                         [Crime, Mystery, Thriller]  "
      ]
     },
     "execution_count": 14,
     "metadata": {},
     "output_type": "execute_result"
    }
   ],
   "source": [
    "dataset_head(merged_df)"
   ]
  },
  {
   "cell_type": "code",
   "execution_count": 15,
   "metadata": {},
   "outputs": [
    {
     "data": {
      "text/html": [
       "<div>\n",
       "<style scoped>\n",
       "    .dataframe tbody tr th:only-of-type {\n",
       "        vertical-align: middle;\n",
       "    }\n",
       "\n",
       "    .dataframe tbody tr th {\n",
       "        vertical-align: top;\n",
       "    }\n",
       "\n",
       "    .dataframe thead th {\n",
       "        text-align: right;\n",
       "    }\n",
       "</style>\n",
       "<table border=\"1\" class=\"dataframe\">\n",
       "  <thead>\n",
       "    <tr style=\"text-align: right;\">\n",
       "      <th></th>\n",
       "      <th>userId</th>\n",
       "      <th>movieId</th>\n",
       "      <th>rating</th>\n",
       "      <th>title</th>\n",
       "      <th>genres</th>\n",
       "    </tr>\n",
       "  </thead>\n",
       "  <tbody>\n",
       "    <tr>\n",
       "      <th>0</th>\n",
       "      <td>1</td>\n",
       "      <td>1</td>\n",
       "      <td>4.0</td>\n",
       "      <td>Toy Story (1995)</td>\n",
       "      <td>[Adventure, Animation, Children, Comedy, Fantasy]</td>\n",
       "    </tr>\n",
       "    <tr>\n",
       "      <th>1</th>\n",
       "      <td>1</td>\n",
       "      <td>3</td>\n",
       "      <td>4.0</td>\n",
       "      <td>Grumpier Old Men (1995)</td>\n",
       "      <td>[Comedy, Romance]</td>\n",
       "    </tr>\n",
       "    <tr>\n",
       "      <th>2</th>\n",
       "      <td>1</td>\n",
       "      <td>6</td>\n",
       "      <td>4.0</td>\n",
       "      <td>Heat (1995)</td>\n",
       "      <td>[Action, Crime, Thriller]</td>\n",
       "    </tr>\n",
       "    <tr>\n",
       "      <th>3</th>\n",
       "      <td>1</td>\n",
       "      <td>47</td>\n",
       "      <td>5.0</td>\n",
       "      <td>Seven (a.k.a. Se7en) (1995)</td>\n",
       "      <td>[Mystery, Thriller]</td>\n",
       "    </tr>\n",
       "    <tr>\n",
       "      <th>4</th>\n",
       "      <td>1</td>\n",
       "      <td>50</td>\n",
       "      <td>5.0</td>\n",
       "      <td>Usual Suspects, The (1995)</td>\n",
       "      <td>[Crime, Mystery, Thriller]</td>\n",
       "    </tr>\n",
       "    <tr>\n",
       "      <th>...</th>\n",
       "      <td>...</td>\n",
       "      <td>...</td>\n",
       "      <td>...</td>\n",
       "      <td>...</td>\n",
       "      <td>...</td>\n",
       "    </tr>\n",
       "    <tr>\n",
       "      <th>100831</th>\n",
       "      <td>610</td>\n",
       "      <td>166534</td>\n",
       "      <td>4.0</td>\n",
       "      <td>Split (2017)</td>\n",
       "      <td>[Drama, Horror, Thriller]</td>\n",
       "    </tr>\n",
       "    <tr>\n",
       "      <th>100832</th>\n",
       "      <td>610</td>\n",
       "      <td>168248</td>\n",
       "      <td>5.0</td>\n",
       "      <td>John Wick: Chapter Two (2017)</td>\n",
       "      <td>[Action, Crime, Thriller]</td>\n",
       "    </tr>\n",
       "    <tr>\n",
       "      <th>100833</th>\n",
       "      <td>610</td>\n",
       "      <td>168250</td>\n",
       "      <td>5.0</td>\n",
       "      <td>Get Out (2017)</td>\n",
       "      <td>[Horror]</td>\n",
       "    </tr>\n",
       "    <tr>\n",
       "      <th>100834</th>\n",
       "      <td>610</td>\n",
       "      <td>168252</td>\n",
       "      <td>5.0</td>\n",
       "      <td>Logan (2017)</td>\n",
       "      <td>[Action, Sci-Fi]</td>\n",
       "    </tr>\n",
       "    <tr>\n",
       "      <th>100835</th>\n",
       "      <td>610</td>\n",
       "      <td>170875</td>\n",
       "      <td>3.0</td>\n",
       "      <td>The Fate of the Furious (2017)</td>\n",
       "      <td>[Action, Crime, Drama, Thriller]</td>\n",
       "    </tr>\n",
       "  </tbody>\n",
       "</table>\n",
       "<p>100836 rows × 5 columns</p>\n",
       "</div>"
      ],
      "text/plain": [
       "        userId  movieId  rating                           title  \\\n",
       "0            1        1     4.0                Toy Story (1995)   \n",
       "1            1        3     4.0         Grumpier Old Men (1995)   \n",
       "2            1        6     4.0                     Heat (1995)   \n",
       "3            1       47     5.0     Seven (a.k.a. Se7en) (1995)   \n",
       "4            1       50     5.0      Usual Suspects, The (1995)   \n",
       "...        ...      ...     ...                             ...   \n",
       "100831     610   166534     4.0                    Split (2017)   \n",
       "100832     610   168248     5.0   John Wick: Chapter Two (2017)   \n",
       "100833     610   168250     5.0                  Get Out (2017)   \n",
       "100834     610   168252     5.0                    Logan (2017)   \n",
       "100835     610   170875     3.0  The Fate of the Furious (2017)   \n",
       "\n",
       "                                                   genres  \n",
       "0       [Adventure, Animation, Children, Comedy, Fantasy]  \n",
       "1                                       [Comedy, Romance]  \n",
       "2                               [Action, Crime, Thriller]  \n",
       "3                                     [Mystery, Thriller]  \n",
       "4                              [Crime, Mystery, Thriller]  \n",
       "...                                                   ...  \n",
       "100831                          [Drama, Horror, Thriller]  \n",
       "100832                          [Action, Crime, Thriller]  \n",
       "100833                                           [Horror]  \n",
       "100834                                   [Action, Sci-Fi]  \n",
       "100835                   [Action, Crime, Drama, Thriller]  \n",
       "\n",
       "[100836 rows x 5 columns]"
      ]
     },
     "execution_count": 15,
     "metadata": {},
     "output_type": "execute_result"
    }
   ],
   "source": [
    "drop_column(merged_df, 'timestamp')"
   ]
  },
  {
   "cell_type": "markdown",
   "metadata": {},
   "source": [
    "Implementing Collaborative Filtering"
   ]
  },
  {
   "cell_type": "code",
   "execution_count": 16,
   "metadata": {},
   "outputs": [
    {
     "name": "stdout",
     "output_type": "stream",
     "text": [
      "RMSE: 0.8762\n",
      "accuracy: 0.8762025716686729\n"
     ]
    }
   ],
   "source": [
    "reader = Reader(rating_scale = (0.5, 5.0))\n",
    "data = Dataset.load_from_df(ratings[['userId', 'movieId', 'rating']], reader)\n",
    "trainset, testset = train_test_split(data, test_size = 0.2)\n",
    "svd = SVD()\n",
    "svd.fit(trainset)\n",
    "predictions = svd.test(testset)\n",
    "print(f\"accuracy: {rmse(predictions)}\")"
   ]
  },
  {
   "cell_type": "markdown",
   "metadata": {},
   "source": [
    "Make Recommendation for a User"
   ]
  },
  {
   "cell_type": "code",
   "execution_count": 24,
   "metadata": {},
   "outputs": [
    {
     "name": "stdout",
     "output_type": "stream",
     "text": [
      "     movieId                                              title  \\\n",
      "277      318                   Shawshank Redemption, The (1994)   \n",
      "602      750  Dr. Strangelove or: How I Learned to Stop Worr...   \n",
      "694      912                                  Casablanca (1942)   \n",
      "841     1104                   Streetcar Named Desire, A (1951)   \n",
      "883     1178                              Paths of Glory (1957)   \n",
      "896     1193             One Flew Over the Cuckoo's Nest (1975)   \n",
      "901     1199                                      Brazil (1985)   \n",
      "903     1201  Good, the Bad and the Ugly, The (Buono, il bru...   \n",
      "905     1203                                12 Angry Men (1957)   \n",
      "906     1204                          Lawrence of Arabia (1962)   \n",
      "\n",
      "                       genres  predicted_rating  \n",
      "277               Crime|Drama               5.0  \n",
      "602                Comedy|War               5.0  \n",
      "694             Drama|Romance               5.0  \n",
      "841                     Drama               5.0  \n",
      "883                 Drama|War               5.0  \n",
      "896                     Drama               5.0  \n",
      "901            Fantasy|Sci-Fi               5.0  \n",
      "903  Action|Adventure|Western               5.0  \n",
      "905                     Drama               5.0  \n",
      "906       Adventure|Drama|War               5.0  \n"
     ]
    }
   ],
   "source": [
    "def get_recommendation(userId, num_recommendations = 10):\n",
    "    all_movie_ids = ratings['movieId'].unique()\n",
    "    rated_movie_ids = ratings[ratings['userId'] == userId]['movieId'].unique()\n",
    "    unrated_movie_ids = np.setdiff1d(all_movie_ids, rated_movie_ids)\n",
    "    predictions = [\n",
    "        (movie, svd.predict(userId, movie).est) for movie in unrated_movie_ids\n",
    "    ]\n",
    "    # print(predictions)\n",
    "    predictions.sort(key=lambda x: x[1], reverse=True)\n",
    "    recommended_movies = predictions[:num_recommendations]\n",
    "    # print(recommended_movies)\n",
    "    recommendation = movies[movies['movieId'].isin([rec[0] for rec in recommended_movies])]\n",
    "    # print(recommendation)\n",
    "    recommendation['predicted_rating'] = [rec[1] for rec in recommended_movies]\n",
    "    print(recommendation)\n",
    "    return recommendation[['title','predicted_rating']]\n",
    "\n",
    "recommendation = get_recommendation(1)\n",
    "# print(recommendation)"
   ]
  },
  {
   "cell_type": "code",
   "execution_count": 20,
   "metadata": {},
   "outputs": [
    {
     "data": {
      "image/png": "[encoded data removed]",
      "text/plain": [
       "<Figure size 1000x500 with 1 Axes>"
      ]
     },
     "metadata": {},
     "output_type": "display_data"
    }
   ],
   "source": [
    "# Plot top recommendations\n",
    "plt.figure(figsize=(10, 5))\n",
    "sns.barplot(\n",
    "    y=recommendation['title'], \n",
    "    x=recommendation['predicted_rating'], \n",
    "    palette='viridis'\n",
    ")\n",
    "plt.title('Top Recommendations')\n",
    "plt.xlabel('Predicted Rating')\n",
    "plt.ylabel('Movie Title')\n",
    "plt.show()"
   ]
  },
  {
   "cell_type": "code",
   "execution_count": null,
   "metadata": {},
   "outputs": [],
   "source": []
  }
 ],
 "metadata": {
  "kernelspec": {
   "display_name": "ml",
   "language": "python",
   "name": "python3"
  },
  "language_info": {
   "codemirror_mode": {
    "name": "ipython",
    "version": 3
   },
   "file_extension": ".py",
   "mimetype": "text/x-python",
   "name": "python",
   "nbconvert_exporter": "python",
   "pygments_lexer": "ipython3",
   "version": "3.12.5"
  }
 },
 "nbformat": 4,
 "nbformat_minor": 2
}
